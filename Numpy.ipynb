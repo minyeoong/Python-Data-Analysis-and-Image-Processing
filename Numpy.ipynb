{
  "nbformat": 4,
  "nbformat_minor": 0,
  "metadata": {
    "colab": {
      "provenance": [],
      "authorship_tag": "ABX9TyOCNUtQozBj1Kz8lggrK9B9",
      "include_colab_link": true
    },
    "kernelspec": {
      "name": "python3",
      "display_name": "Python 3"
    },
    "language_info": {
      "name": "python"
    }
  },
  "cells": [
    {
      "cell_type": "markdown",
      "metadata": {
        "id": "view-in-github",
        "colab_type": "text"
      },
      "source": [
        "<a href=\"https://colab.research.google.com/github/minyeoong/python-/blob/main/Numpy.ipynb\" target=\"_parent\"><img src=\"https://colab.research.google.com/assets/colab-badge.svg\" alt=\"Open In Colab\"/></a>"
      ]
    },
    {
      "cell_type": "code",
      "execution_count": null,
      "metadata": {
        "id": "qDNPs4bkhlbL"
      },
      "outputs": [],
      "source": [
        "list_data=[1,2,3]"
      ]
    },
    {
      "cell_type": "code",
      "source": [
        "print(list_data)"
      ],
      "metadata": {
        "colab": {
          "base_uri": "https://localhost:8080/"
        },
        "id": "dYpiPjL1i7iG",
        "outputId": "f1988300-44fd-44aa-a42a-f373bc3cce15"
      },
      "execution_count": null,
      "outputs": [
        {
          "output_type": "stream",
          "name": "stdout",
          "text": [
            "[1, 2, 3]\n"
          ]
        }
      ]
    },
    {
      "cell_type": "code",
      "source": [
        "import numpy as np"
      ],
      "metadata": {
        "id": "0awCwPSFjG4r"
      },
      "execution_count": null,
      "outputs": []
    },
    {
      "cell_type": "code",
      "source": [
        "array = np.array(list_data)"
      ],
      "metadata": {
        "id": "5dOlHLwtjJO9"
      },
      "execution_count": null,
      "outputs": []
    },
    {
      "cell_type": "code",
      "source": [
        "print(array)"
      ],
      "metadata": {
        "colab": {
          "base_uri": "https://localhost:8080/"
        },
        "id": "2OFHm7SSjMqD",
        "outputId": "ad6364ec-a301-4647-e9ac-6073559e1bd2"
      },
      "execution_count": null,
      "outputs": [
        {
          "output_type": "stream",
          "name": "stdout",
          "text": [
            "[1 2 3]\n"
          ]
        }
      ]
    },
    {
      "cell_type": "code",
      "source": [
        "print(array.size)"
      ],
      "metadata": {
        "colab": {
          "base_uri": "https://localhost:8080/"
        },
        "id": "bAO9vBXojN6M",
        "outputId": "c07860a7-7c4b-4855-9679-ab6c9dfd17c8"
      },
      "execution_count": null,
      "outputs": [
        {
          "output_type": "stream",
          "name": "stdout",
          "text": [
            "3\n"
          ]
        }
      ]
    },
    {
      "cell_type": "code",
      "source": [
        "print(array.dtype)"
      ],
      "metadata": {
        "colab": {
          "base_uri": "https://localhost:8080/"
        },
        "id": "9zdpHjpEjSGa",
        "outputId": "f0f7718b-db18-4116-a00b-167df9a9bbf0"
      },
      "execution_count": null,
      "outputs": [
        {
          "output_type": "stream",
          "name": "stdout",
          "text": [
            "int64\n"
          ]
        }
      ]
    },
    {
      "cell_type": "code",
      "source": [
        "#0부터 3까지의 배열 만들기, arange함수"
      ],
      "metadata": {
        "id": "KBc3KcsvjUsg"
      },
      "execution_count": null,
      "outputs": []
    },
    {
      "cell_type": "code",
      "source": [
        "array1 = np.arange(4)"
      ],
      "metadata": {
        "id": "Z6enmFQtjc5S"
      },
      "execution_count": null,
      "outputs": []
    },
    {
      "cell_type": "code",
      "source": [
        "print(array1)"
      ],
      "metadata": {
        "colab": {
          "base_uri": "https://localhost:8080/"
        },
        "id": "dHei0oWfjfRF",
        "outputId": "6ab7e3d1-aa15-4a6c-c9b4-6b3bd120999a"
      },
      "execution_count": null,
      "outputs": [
        {
          "output_type": "stream",
          "name": "stdout",
          "text": [
            "[0 1 2 3]\n"
          ]
        }
      ]
    },
    {
      "cell_type": "code",
      "source": [
        "array2 = np.zeros((4,4),dtype=float) #zeros함수 (0으로 초기화)"
      ],
      "metadata": {
        "id": "cZRcjcrPjjjJ"
      },
      "execution_count": null,
      "outputs": []
    },
    {
      "cell_type": "code",
      "source": [
        "print(array2)"
      ],
      "metadata": {
        "colab": {
          "base_uri": "https://localhost:8080/"
        },
        "id": "jaFoT9Y3jvkr",
        "outputId": "81f2713d-8fa3-4ad8-cbc6-f76c5f846724"
      },
      "execution_count": null,
      "outputs": [
        {
          "output_type": "stream",
          "name": "stdout",
          "text": [
            "[[0. 0. 0. 0.]\n",
            " [0. 0. 0. 0.]\n",
            " [0. 0. 0. 0.]\n",
            " [0. 0. 0. 0.]]\n"
          ]
        }
      ]
    },
    {
      "cell_type": "code",
      "source": [
        "array3 = np.ones((3,3),dtype=float)"
      ],
      "metadata": {
        "id": "sH8kmyecj2yY"
      },
      "execution_count": null,
      "outputs": []
    },
    {
      "cell_type": "code",
      "source": [
        "print(array3)"
      ],
      "metadata": {
        "colab": {
          "base_uri": "https://localhost:8080/"
        },
        "id": "-zBIYLbSkAzI",
        "outputId": "a5f4d374-9142-4446-92cc-3ee3ee992f58"
      },
      "execution_count": null,
      "outputs": [
        {
          "output_type": "stream",
          "name": "stdout",
          "text": [
            "[[1. 1. 1.]\n",
            " [1. 1. 1.]\n",
            " [1. 1. 1.]]\n"
          ]
        }
      ]
    },
    {
      "cell_type": "code",
      "source": [
        "#0부터 9까지 랜덤하게 초기화된 배열 만들기\n",
        "array4 = np.random.randint(0,10,(3,3))#0부터 9까지 랜덤한 숫자 3*3matrix"
      ],
      "metadata": {
        "id": "TVnSFr6wkF5R"
      },
      "execution_count": null,
      "outputs": []
    },
    {
      "cell_type": "code",
      "source": [
        "print(array4)"
      ],
      "metadata": {
        "colab": {
          "base_uri": "https://localhost:8080/"
        },
        "id": "6BNE0FlOkPEH",
        "outputId": "128be4d9-751e-497a-9651-c22a4cee4d6f"
      },
      "execution_count": null,
      "outputs": [
        {
          "output_type": "stream",
          "name": "stdout",
          "text": [
            "[[7 7 1]\n",
            " [5 5 0]\n",
            " [4 5 6]]\n"
          ]
        }
      ]
    },
    {
      "cell_type": "code",
      "source": [
        "#평균이 0이고 표준편차가 1인 표준 정규를 띄는 배열(표준정규분포)\n",
        "array5 =np.random.normal(0,1,(3,3))"
      ],
      "metadata": {
        "id": "aEN0pYuGkQog"
      },
      "execution_count": null,
      "outputs": []
    },
    {
      "cell_type": "code",
      "source": [
        "print(array5)"
      ],
      "metadata": {
        "colab": {
          "base_uri": "https://localhost:8080/"
        },
        "id": "WUoIgrnlkmeu",
        "outputId": "de4d68c6-291c-4b9d-89f4-264bf6306d49"
      },
      "execution_count": null,
      "outputs": [
        {
          "output_type": "stream",
          "name": "stdout",
          "text": [
            "[[-0.34058201 -0.06040634  0.232898  ]\n",
            " [ 0.92523048  0.86620371 -0.01724461]\n",
            " [-0.43332256  2.12710064 -0.84630427]]\n"
          ]
        }
      ]
    },
    {
      "cell_type": "code",
      "source": [],
      "metadata": {
        "id": "_un713Epkoed"
      },
      "execution_count": null,
      "outputs": []
    },
    {
      "cell_type": "markdown",
      "source": [
        "Numpy 배열합치기"
      ],
      "metadata": {
        "id": "vcgb6_pskwP0"
      }
    },
    {
      "cell_type": "code",
      "source": [
        "array1 = np.array([1,2,3])"
      ],
      "metadata": {
        "id": "yXvScjkJkyLW"
      },
      "execution_count": null,
      "outputs": []
    },
    {
      "cell_type": "code",
      "source": [
        "array2 =np.array([4,5,6])"
      ],
      "metadata": {
        "id": "KpMnqUxIlBkV"
      },
      "execution_count": null,
      "outputs": []
    },
    {
      "cell_type": "code",
      "source": [
        "array3 = np.concatenate([array1,array2])"
      ],
      "metadata": {
        "id": "Ge9-uu_YlDoC"
      },
      "execution_count": null,
      "outputs": []
    },
    {
      "cell_type": "code",
      "source": [
        "print(array3.shape)\n",
        "print(array3)"
      ],
      "metadata": {
        "colab": {
          "base_uri": "https://localhost:8080/"
        },
        "id": "hz77PzxelH3p",
        "outputId": "f056c14d-a230-46bb-a395-5ba609ef5631"
      },
      "execution_count": null,
      "outputs": [
        {
          "output_type": "stream",
          "name": "stdout",
          "text": [
            "(6,)\n",
            "[1 2 3 4 5 6]\n"
          ]
        }
      ]
    },
    {
      "cell_type": "code",
      "source": [],
      "metadata": {
        "id": "h6AwvAVylKSa"
      },
      "execution_count": null,
      "outputs": []
    },
    {
      "cell_type": "markdown",
      "source": [
        "Numpy 배열 형태 바꾸기"
      ],
      "metadata": {
        "id": "5cE9E7S4lN1U"
      }
    },
    {
      "cell_type": "code",
      "source": [
        "#reshape함수\n",
        "array1 = np.array([1,2,3,4])\n",
        "array2 = array1.reshape((2,2))"
      ],
      "metadata": {
        "id": "k-3cj1pvlQLZ"
      },
      "execution_count": null,
      "outputs": []
    },
    {
      "cell_type": "code",
      "source": [
        "print(array2)"
      ],
      "metadata": {
        "colab": {
          "base_uri": "https://localhost:8080/"
        },
        "id": "0hh5IfYBlede",
        "outputId": "14c1499c-7e66-4802-a754-1e565b4398c7"
      },
      "execution_count": null,
      "outputs": [
        {
          "output_type": "stream",
          "name": "stdout",
          "text": [
            "[[1 2]\n",
            " [3 4]]\n"
          ]
        }
      ]
    },
    {
      "cell_type": "code",
      "source": [
        "array1 =np.arange(4).reshape(1,4)\n",
        "array2 = np.arange(8).reshape(2,4)\n",
        "print(array1)\n",
        "print(array2)"
      ],
      "metadata": {
        "colab": {
          "base_uri": "https://localhost:8080/"
        },
        "id": "im9L1sqylgpM",
        "outputId": "f6b542ef-6c95-4bc9-a7a6-a7acd2cfabbd"
      },
      "execution_count": null,
      "outputs": [
        {
          "output_type": "stream",
          "name": "stdout",
          "text": [
            "[[0 1 2 3]]\n",
            "[[0 1 2 3]\n",
            " [4 5 6 7]]\n"
          ]
        }
      ]
    },
    {
      "cell_type": "code",
      "source": [
        "array3 =np.concatenate([array1,array2],axis=0)\n",
        "print(array3)"
      ],
      "metadata": {
        "colab": {
          "base_uri": "https://localhost:8080/"
        },
        "id": "T7I4IMUilzd2",
        "outputId": "d8c19da8-f823-4a35-cc70-e6cda8b868c9"
      },
      "execution_count": null,
      "outputs": [
        {
          "output_type": "stream",
          "name": "stdout",
          "text": [
            "[[0 1 2 3]\n",
            " [0 1 2 3]\n",
            " [4 5 6 7]]\n"
          ]
        }
      ]
    },
    {
      "cell_type": "code",
      "source": [],
      "metadata": {
        "id": "1mdpO0CfmT4u"
      },
      "execution_count": null,
      "outputs": []
    },
    {
      "cell_type": "markdown",
      "source": [
        "Numpy 배열 나누기"
      ],
      "metadata": {
        "id": "wFuiJAqImvhT"
      }
    },
    {
      "cell_type": "code",
      "source": [
        "array = np.arange(8).reshape(2,4)"
      ],
      "metadata": {
        "id": "wVh4hK0YmwxI"
      },
      "execution_count": null,
      "outputs": []
    },
    {
      "cell_type": "code",
      "source": [
        "left,right = np.split(array,[2],axis=1)#array를 인덱스2 기준, 열 기준 split"
      ],
      "metadata": {
        "id": "A5XR6zfEm2aS"
      },
      "execution_count": null,
      "outputs": []
    },
    {
      "cell_type": "code",
      "source": [
        "print(left)"
      ],
      "metadata": {
        "colab": {
          "base_uri": "https://localhost:8080/"
        },
        "id": "MDWV9NaMm7Z7",
        "outputId": "3186d51d-1b0c-40a1-b2b0-454072095589"
      },
      "execution_count": null,
      "outputs": [
        {
          "output_type": "stream",
          "name": "stdout",
          "text": [
            "[[0 1]\n",
            " [4 5]]\n"
          ]
        }
      ]
    },
    {
      "cell_type": "code",
      "source": [
        "print(right)"
      ],
      "metadata": {
        "colab": {
          "base_uri": "https://localhost:8080/"
        },
        "id": "9b6hBB-0m8mR",
        "outputId": "9f2ff325-c619-49ff-cefe-9770f9a9877b"
      },
      "execution_count": null,
      "outputs": [
        {
          "output_type": "stream",
          "name": "stdout",
          "text": [
            "[[2 3]\n",
            " [6 7]]\n"
          ]
        }
      ]
    },
    {
      "cell_type": "code",
      "source": [],
      "metadata": {
        "id": "kRSymlbJm9Vz"
      },
      "execution_count": null,
      "outputs": []
    },
    {
      "cell_type": "markdown",
      "source": [
        "Numpy의 연산과 함수"
      ],
      "metadata": {
        "id": "rBRAYvp7pfLL"
      }
    },
    {
      "cell_type": "code",
      "source": [
        "#Numpy 상수 연산\n",
        "array = np.random.randint(1,10,size=4).reshape(2,2)"
      ],
      "metadata": {
        "id": "XtvfxqDOphGe"
      },
      "execution_count": null,
      "outputs": []
    },
    {
      "cell_type": "code",
      "source": [
        "print(array)"
      ],
      "metadata": {
        "colab": {
          "base_uri": "https://localhost:8080/"
        },
        "id": "L0LQT75fp6yy",
        "outputId": "b6ca78a5-eda2-4a19-9d00-40c41061d13c"
      },
      "execution_count": null,
      "outputs": [
        {
          "output_type": "stream",
          "name": "stdout",
          "text": [
            "[[7 5]\n",
            " [9 6]]\n"
          ]
        }
      ]
    },
    {
      "cell_type": "code",
      "source": [
        "mul_array = array*10\n",
        "print(result_array)"
      ],
      "metadata": {
        "colab": {
          "base_uri": "https://localhost:8080/"
        },
        "id": "jmy9D3u8p7e7",
        "outputId": "76c1a9e9-c455-441c-a628-408433c6cb60"
      },
      "execution_count": null,
      "outputs": [
        {
          "output_type": "stream",
          "name": "stdout",
          "text": [
            "[[70 50]\n",
            " [90 60]]\n"
          ]
        }
      ]
    },
    {
      "cell_type": "code",
      "source": [
        "plus_array = array+2\n",
        "print(plus_array)"
      ],
      "metadata": {
        "colab": {
          "base_uri": "https://localhost:8080/"
        },
        "id": "_cUM12LJqyq1",
        "outputId": "4210c748-4cb2-4582-cc06-13a1f7d3ab3d"
      },
      "execution_count": null,
      "outputs": [
        {
          "output_type": "stream",
          "name": "stdout",
          "text": [
            "[[ 9  7]\n",
            " [11  8]]\n"
          ]
        }
      ]
    },
    {
      "cell_type": "code",
      "source": [
        "array1 = np.arange(4).reshape(2,2) #2x2\n",
        "array2 = np.arange(2) #1x2\n",
        "#브로드캐스트: 형태가 다른 배열을 연산할 수 있도록 배열의 형태를 동적으로 변환\n",
        "array3 = array1 +array2 \n",
        "print(array3)"
      ],
      "metadata": {
        "colab": {
          "base_uri": "https://localhost:8080/"
        },
        "id": "FKoYFnenrQgk",
        "outputId": "e0f89f96-f3a0-423b-e598-8d3d3fe7ef35"
      },
      "execution_count": null,
      "outputs": [
        {
          "output_type": "stream",
          "name": "stdout",
          "text": [
            "[[0 2]\n",
            " [2 4]]\n"
          ]
        }
      ]
    },
    {
      "cell_type": "code",
      "source": [
        "array1 = np.arange(0,8).reshape(2,4)\n",
        "array2 = np.arange(0,8).reshape(2,4)\n",
        "array3 = np.concatenate([array1,array2],axis=0)\n",
        "array4 = np.arange(0,4).reshape(4,1)\n",
        "\n",
        "print(array3+array4)"
      ],
      "metadata": {
        "colab": {
          "base_uri": "https://localhost:8080/"
        },
        "id": "EyucMd8Nr4tp",
        "outputId": "24f7d545-adc4-4061-b953-be7b297091a0"
      },
      "execution_count": null,
      "outputs": [
        {
          "output_type": "stream",
          "name": "stdout",
          "text": [
            "[[ 0  1  2  3]\n",
            " [ 5  6  7  8]\n",
            " [ 2  3  4  5]\n",
            " [ 7  8  9 10]]\n"
          ]
        }
      ]
    },
    {
      "cell_type": "code",
      "source": [
        "array1 = np.arange(16).reshape(4,4)\n",
        "print(array1)\n",
        "array2 = array1<10 #마스킹 연산\n",
        "print(array2) \n",
        "array1[array2]=100\n",
        "print(array1)"
      ],
      "metadata": {
        "colab": {
          "base_uri": "https://localhost:8080/"
        },
        "id": "OqJq0KtptA0W",
        "outputId": "58617a86-e42a-4529-df1c-2bf50ec38fd4"
      },
      "execution_count": null,
      "outputs": [
        {
          "output_type": "stream",
          "name": "stdout",
          "text": [
            "[[ 0  1  2  3]\n",
            " [ 4  5  6  7]\n",
            " [ 8  9 10 11]\n",
            " [12 13 14 15]]\n",
            "[[ True  True  True  True]\n",
            " [ True  True  True  True]\n",
            " [ True  True False False]\n",
            " [False False False False]]\n",
            "[[100 100 100 100]\n",
            " [100 100 100 100]\n",
            " [100 100  10  11]\n",
            " [ 12  13  14  15]]\n"
          ]
        }
      ]
    },
    {
      "cell_type": "markdown",
      "source": [
        "Numpy의 집계 함수"
      ],
      "metadata": {
        "id": "WocNTSCKuKWl"
      }
    },
    {
      "cell_type": "code",
      "source": [
        "array = np.arange(16).reshape(4,4)\n",
        "print(\"최대값: \",np.max(array))\n",
        "print(\"최소값: \",np.min(array))\n",
        "print(\"합계: \",np.sum(array))\n",
        "print(\"평균값: \",np.mean(array))\n"
      ],
      "metadata": {
        "colab": {
          "base_uri": "https://localhost:8080/"
        },
        "id": "moW2tjBqtd0f",
        "outputId": "1f9ebe55-bdc8-41eb-f19d-4589b606912a"
      },
      "execution_count": null,
      "outputs": [
        {
          "output_type": "stream",
          "name": "stdout",
          "text": [
            "최대값:  15\n",
            "최소값:  0\n",
            "합계:  120\n",
            "평균값:  7.5\n"
          ]
        }
      ]
    },
    {
      "cell_type": "code",
      "source": [
        "print(\"합계: \",np.sum(array,axis=0))"
      ],
      "metadata": {
        "colab": {
          "base_uri": "https://localhost:8080/"
        },
        "id": "4y5527TWukwz",
        "outputId": "ed055011-9f27-47ad-fb1c-0a659bf1d581"
      },
      "execution_count": null,
      "outputs": [
        {
          "output_type": "stream",
          "name": "stdout",
          "text": [
            "합계:  [24 28 32 36]\n"
          ]
        }
      ]
    },
    {
      "cell_type": "code",
      "source": [
        "print(\"합계: \",np.sum(array,axis=1))"
      ],
      "metadata": {
        "colab": {
          "base_uri": "https://localhost:8080/"
        },
        "id": "T13z_mFuuxPj",
        "outputId": "e40a0a85-85f8-4198-b116-00666bd58e12"
      },
      "execution_count": null,
      "outputs": [
        {
          "output_type": "stream",
          "name": "stdout",
          "text": [
            "합계:  [ 6 22 38 54]\n"
          ]
        }
      ]
    },
    {
      "cell_type": "code",
      "source": [],
      "metadata": {
        "id": "cB0n3cLMu2EJ"
      },
      "execution_count": null,
      "outputs": []
    }
  ]
}