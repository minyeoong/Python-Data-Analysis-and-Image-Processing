{
  "nbformat": 4,
  "nbformat_minor": 0,
  "metadata": {
    "colab": {
      "provenance": [],
      "authorship_tag": "ABX9TyPGZzY8gd+269tyU2LeTZgc",
      "include_colab_link": true
    },
    "kernelspec": {
      "name": "python3",
      "display_name": "Python 3"
    },
    "language_info": {
      "name": "python"
    }
  },
  "cells": [
    {
      "cell_type": "markdown",
      "metadata": {
        "id": "view-in-github",
        "colab_type": "text"
      },
      "source": [
        "<a href=\"https://colab.research.google.com/github/minyeoong/Python-Data-Analysis-and-Image-Processing/blob/main/Numpy2.ipynb\" target=\"_parent\"><img src=\"https://colab.research.google.com/assets/colab-badge.svg\" alt=\"Open In Colab\"/></a>"
      ]
    },
    {
      "cell_type": "markdown",
      "source": [
        "Numpy의 활용"
      ],
      "metadata": {
        "id": "2fKaV1bYy5fM"
      }
    },
    {
      "cell_type": "code",
      "execution_count": 3,
      "metadata": {
        "id": "LLOZkBbDy3K-"
      },
      "outputs": [],
      "source": [
        "import numpy as np\n",
        "# 단일 객체 저장 및 불러오기\n",
        "array = np.arange(0,10)\n",
        "np.save('saved.npy',array)"
      ]
    },
    {
      "cell_type": "code",
      "source": [
        "result = np.load('saved.npy')\n",
        "print(result)"
      ],
      "metadata": {
        "colab": {
          "base_uri": "https://localhost:8080/"
        },
        "id": "cm2IJXJtzHnE",
        "outputId": "a9a2c9e1-79b5-4a99-b921-4a9865602dde"
      },
      "execution_count": 4,
      "outputs": [
        {
          "output_type": "stream",
          "name": "stdout",
          "text": [
            "[0 1 2 3 4 5 6 7 8 9]\n"
          ]
        }
      ]
    },
    {
      "cell_type": "code",
      "source": [
        "#복수 객체 저장 및 불러오기\n",
        "array1 = np.arange(0,10)\n",
        "array2 = np.arange(10,20)\n",
        "np.savez('saved.npz',array1 =array1,array2=array2)\n",
        "data = np.load('saved.npz')\n",
        "result1 = data['array1']\n",
        "result2 = data['array2']"
      ],
      "metadata": {
        "id": "pgIf19gEzQME"
      },
      "execution_count": 5,
      "outputs": []
    },
    {
      "cell_type": "code",
      "source": [
        "print(result1)"
      ],
      "metadata": {
        "colab": {
          "base_uri": "https://localhost:8080/"
        },
        "id": "WV6CkzxkzppW",
        "outputId": "3d96572f-c2e5-4fca-aba5-5ef5d090e288"
      },
      "execution_count": 6,
      "outputs": [
        {
          "output_type": "stream",
          "name": "stdout",
          "text": [
            "[0 1 2 3 4 5 6 7 8 9]\n"
          ]
        }
      ]
    },
    {
      "cell_type": "code",
      "source": [
        "print(result2)"
      ],
      "metadata": {
        "colab": {
          "base_uri": "https://localhost:8080/"
        },
        "id": "X7u709-EzrjB",
        "outputId": "2f46f203-449a-4b8b-a6c7-7e464c755aa0"
      },
      "execution_count": 7,
      "outputs": [
        {
          "output_type": "stream",
          "name": "stdout",
          "text": [
            "[10 11 12 13 14 15 16 17 18 19]\n"
          ]
        }
      ]
    },
    {
      "cell_type": "markdown",
      "source": [
        "Numpy 원소의 정렬"
      ],
      "metadata": {
        "id": "WtOkr9o4zwem"
      }
    },
    {
      "cell_type": "code",
      "source": [
        "#오름차순 정렬\n",
        "array = np.array([5,9,10,3,1])\n",
        "print(array)"
      ],
      "metadata": {
        "colab": {
          "base_uri": "https://localhost:8080/"
        },
        "id": "sH9i3gP3ztBq",
        "outputId": "79c9a339-a62f-4c09-ebc1-2154bd84bef8"
      },
      "execution_count": 8,
      "outputs": [
        {
          "output_type": "stream",
          "name": "stdout",
          "text": [
            "[ 5  9 10  3  1]\n"
          ]
        }
      ]
    },
    {
      "cell_type": "code",
      "source": [
        "array.sort()"
      ],
      "metadata": {
        "id": "WV_e2lvTz5HK"
      },
      "execution_count": 11,
      "outputs": []
    },
    {
      "cell_type": "code",
      "source": [
        "print(array)"
      ],
      "metadata": {
        "colab": {
          "base_uri": "https://localhost:8080/"
        },
        "id": "u9LaqCrNDGzQ",
        "outputId": "d8fe9fde-b950-4ce3-d187-4a6447989489"
      },
      "execution_count": 12,
      "outputs": [
        {
          "output_type": "stream",
          "name": "stdout",
          "text": [
            "[ 1  3  5  9 10]\n"
          ]
        }
      ]
    },
    {
      "cell_type": "code",
      "source": [
        "#내림차순\n",
        "print(array[::-1])"
      ],
      "metadata": {
        "colab": {
          "base_uri": "https://localhost:8080/"
        },
        "id": "k_wZaHN5DW2M",
        "outputId": "f54bf6cf-c234-4345-f075-8e36bd50ac7a"
      },
      "execution_count": 13,
      "outputs": [
        {
          "output_type": "stream",
          "name": "stdout",
          "text": [
            "[10  9  5  3  1]\n"
          ]
        }
      ]
    },
    {
      "cell_type": "code",
      "source": [
        "#각 열을 기준으로 정렬\n",
        "array = np.array([[5,9,10,3,1],[8,3,4,2,5]])\n",
        "print(array)"
      ],
      "metadata": {
        "colab": {
          "base_uri": "https://localhost:8080/"
        },
        "id": "43RuLKbxDeis",
        "outputId": "1da05866-78c3-401b-bad1-969b34005313"
      },
      "execution_count": 15,
      "outputs": [
        {
          "output_type": "stream",
          "name": "stdout",
          "text": [
            "[[ 5  9 10  3  1]\n",
            " [ 8  3  4  2  5]]\n"
          ]
        }
      ]
    },
    {
      "cell_type": "code",
      "source": [
        "array.sort(axis=0)"
      ],
      "metadata": {
        "id": "3qOLP2xDDoV6"
      },
      "execution_count": 16,
      "outputs": []
    },
    {
      "cell_type": "code",
      "source": [
        "print(array)"
      ],
      "metadata": {
        "colab": {
          "base_uri": "https://localhost:8080/"
        },
        "id": "agsPPiYFDvIg",
        "outputId": "5d9ade77-524a-45a3-e228-2bbbb2b581bf"
      },
      "execution_count": 17,
      "outputs": [
        {
          "output_type": "stream",
          "name": "stdout",
          "text": [
            "[[ 5  3  4  2  1]\n",
            " [ 8  9 10  3  5]]\n"
          ]
        }
      ]
    },
    {
      "cell_type": "code",
      "source": [
        "#균일한 간격으로 데이터 생성\n",
        "array= np.linspace(0,10,5)\n",
        "print(array)"
      ],
      "metadata": {
        "colab": {
          "base_uri": "https://localhost:8080/"
        },
        "id": "JJkNXOz_DxFO",
        "outputId": "31c73d8f-2ca8-4a96-ba2b-cc297cc714e3"
      },
      "execution_count": 19,
      "outputs": [
        {
          "output_type": "stream",
          "name": "stdout",
          "text": [
            "[ 0.   2.5  5.   7.5 10. ]\n"
          ]
        }
      ]
    },
    {
      "cell_type": "code",
      "source": [
        "#난수의 재연(실행마다 결과 동일)\n",
        "print(np.random.randint(0,10,(2,3)))"
      ],
      "metadata": {
        "colab": {
          "base_uri": "https://localhost:8080/"
        },
        "id": "bPVyop6VEAW9",
        "outputId": "87c6f53b-6f4e-4c9a-f0d3-7355c6b7739c"
      },
      "execution_count": 23,
      "outputs": [
        {
          "output_type": "stream",
          "name": "stdout",
          "text": [
            "[[6 4 4]\n",
            " [1 5 5]]\n"
          ]
        }
      ]
    },
    {
      "cell_type": "code",
      "source": [
        "array1 = np.arange(0,10)"
      ],
      "metadata": {
        "id": "emxdF0UoEcQJ"
      },
      "execution_count": 24,
      "outputs": []
    },
    {
      "cell_type": "code",
      "source": [
        "array2 = array1\n",
        "array2[0]=99"
      ],
      "metadata": {
        "id": "8QgMbWprEqtN"
      },
      "execution_count": 25,
      "outputs": []
    },
    {
      "cell_type": "code",
      "source": [
        "print(array1)"
      ],
      "metadata": {
        "colab": {
          "base_uri": "https://localhost:8080/"
        },
        "id": "Q94cyMBdEuJ6",
        "outputId": "ed959bbd-16f1-4e00-8ab5-da4c92f9cf28"
      },
      "execution_count": 26,
      "outputs": [
        {
          "output_type": "stream",
          "name": "stdout",
          "text": [
            "[99  1  2  3  4  5  6  7  8  9]\n"
          ]
        }
      ]
    },
    {
      "cell_type": "code",
      "source": [
        "#Numpy에서는 array1와 array2가 동일한 주소를 가리키므로 array2를\n",
        "#바꾸면 array1 또한 바뀌게 된다."
      ],
      "metadata": {
        "id": "e4UGouOAEw_0"
      },
      "execution_count": 27,
      "outputs": []
    },
    {
      "cell_type": "code",
      "source": [
        "array1 =np.arange(0,10)\n",
        "array2 = array1.copy()\n",
        "array2[0]=99\n",
        "print(array1)"
      ],
      "metadata": {
        "colab": {
          "base_uri": "https://localhost:8080/"
        },
        "id": "8nt8L6tfFLUX",
        "outputId": "8eb5c593-ee4e-40bc-f55b-5002347c7689"
      },
      "execution_count": 29,
      "outputs": [
        {
          "output_type": "stream",
          "name": "stdout",
          "text": [
            "[0 1 2 3 4 5 6 7 8 9]\n"
          ]
        }
      ]
    },
    {
      "cell_type": "code",
      "source": [
        "#array1.copy()를 이용하면 동일한 주소를 가리키지 않는다."
      ],
      "metadata": {
        "id": "XxU63sRAFSqA"
      },
      "execution_count": 30,
      "outputs": []
    },
    {
      "cell_type": "code",
      "source": [
        "#중복된 원소 제거\n",
        "array = np.array([1,1,2,2,2,3,3,4])\n",
        "print(np.unique(array))"
      ],
      "metadata": {
        "colab": {
          "base_uri": "https://localhost:8080/"
        },
        "id": "j9v76eFYwY8g",
        "outputId": "b6f69cc6-1afc-42b4-b746-c720c9c28c64"
      },
      "execution_count": 31,
      "outputs": [
        {
          "output_type": "stream",
          "name": "stdout",
          "text": [
            "[1 2 3 4]\n"
          ]
        }
      ]
    },
    {
      "cell_type": "markdown",
      "source": [],
      "metadata": {
        "id": "lI-ZBuWUwVCt"
      }
    },
    {
      "cell_type": "code",
      "source": [],
      "metadata": {
        "id": "IWLkRSP9wUGg"
      },
      "execution_count": null,
      "outputs": []
    }
  ]
}