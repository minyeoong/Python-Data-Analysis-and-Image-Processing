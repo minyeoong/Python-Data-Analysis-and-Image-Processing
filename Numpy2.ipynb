{
  "nbformat": 4,
  "nbformat_minor": 0,
  "metadata": {
    "colab": {
      "provenance": [],
      "authorship_tag": "ABX9TyOlWB4q4BdkJ+UtyzkSqdiQ",
      "include_colab_link": true
    },
    "kernelspec": {
      "name": "python3",
      "display_name": "Python 3"
    },
    "language_info": {
      "name": "python"
    }
  },
  "cells": [
    {
      "cell_type": "markdown",
      "metadata": {
        "id": "view-in-github",
        "colab_type": "text"
      },
      "source": [
        "<a href=\"https://colab.research.google.com/github/minyeoong/Python-Data-Analysis-and-Image-Processing/blob/main/Numpy2.ipynb\" target=\"_parent\"><img src=\"https://colab.research.google.com/assets/colab-badge.svg\" alt=\"Open In Colab\"/></a>"
      ]
    },
    {
      "cell_type": "markdown",
      "source": [
        "Numpy의 활용"
      ],
      "metadata": {
        "id": "2fKaV1bYy5fM"
      }
    },
    {
      "cell_type": "code",
      "execution_count": 1,
      "metadata": {
        "id": "LLOZkBbDy3K-"
      },
      "outputs": [],
      "source": [
        "import numpy as np\n",
        "# 단일 객체 저장 및 불러오기\n",
        "array = np.arange(0,10)\n",
        "np.save('saved.npy',array)"
      ]
    },
    {
      "cell_type": "code",
      "source": [
        "result = np.load('saved.npy')\n",
        "print(result)"
      ],
      "metadata": {
        "colab": {
          "base_uri": "https://localhost:8080/"
        },
        "id": "cm2IJXJtzHnE",
        "outputId": "3ad00e09-d546-4bcd-957c-97cde5bba536"
      },
      "execution_count": 2,
      "outputs": [
        {
          "output_type": "stream",
          "name": "stdout",
          "text": [
            "[0 1 2 3 4 5 6 7 8 9]\n"
          ]
        }
      ]
    },
    {
      "cell_type": "code",
      "source": [
        "#복수 객체 저장 및 불러오기\n",
        "array1 = np.arange(0,10)\n",
        "array2 = np.arange(10,20)\n",
        "np.savez('saved.npz',array1 =array1,array2=array2)\n",
        "data = np.load('saved.npz')\n",
        "result1 = data['array1']\n",
        "result2 = data['array2']"
      ],
      "metadata": {
        "id": "pgIf19gEzQME"
      },
      "execution_count": 3,
      "outputs": []
    },
    {
      "cell_type": "code",
      "source": [
        "print(result1)"
      ],
      "metadata": {
        "colab": {
          "base_uri": "https://localhost:8080/"
        },
        "id": "WV6CkzxkzppW",
        "outputId": "060c4ad3-1d83-4583-93e4-0d0a2584b3a9"
      },
      "execution_count": 4,
      "outputs": [
        {
          "output_type": "stream",
          "name": "stdout",
          "text": [
            "[0 1 2 3 4 5 6 7 8 9]\n"
          ]
        }
      ]
    },
    {
      "cell_type": "code",
      "source": [
        "print(result2)"
      ],
      "metadata": {
        "colab": {
          "base_uri": "https://localhost:8080/"
        },
        "id": "X7u709-EzrjB",
        "outputId": "9fc5932b-d42b-4514-d1af-d964c9de824b"
      },
      "execution_count": 5,
      "outputs": [
        {
          "output_type": "stream",
          "name": "stdout",
          "text": [
            "[10 11 12 13 14 15 16 17 18 19]\n"
          ]
        }
      ]
    },
    {
      "cell_type": "markdown",
      "source": [
        "Numpy 원소의 정렬"
      ],
      "metadata": {
        "id": "WtOkr9o4zwem"
      }
    },
    {
      "cell_type": "code",
      "source": [
        "#오름차순 정렬\n",
        "array = np.array([5,9,10,3,1])\n",
        "print(array)"
      ],
      "metadata": {
        "colab": {
          "base_uri": "https://localhost:8080/"
        },
        "id": "sH9i3gP3ztBq",
        "outputId": "2fb1a144-7be3-4885-9fbf-dabbf0f941d4"
      },
      "execution_count": 6,
      "outputs": [
        {
          "output_type": "stream",
          "name": "stdout",
          "text": [
            "[ 5  9 10  3  1]\n"
          ]
        }
      ]
    },
    {
      "cell_type": "code",
      "source": [],
      "metadata": {
        "id": "WV_e2lvTz5HK"
      },
      "execution_count": null,
      "outputs": []
    }
  ]
}